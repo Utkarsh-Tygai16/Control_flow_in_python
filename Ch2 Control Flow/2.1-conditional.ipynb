{
 "cells": [
  {
   "cell_type": "code",
   "execution_count": 1,
   "metadata": {},
   "outputs": [
    {
     "name": "stdout",
     "output_type": "stream",
     "text": [
      "allowed to vote\n"
     ]
    }
   ],
   "source": [
    "## if statement\n",
    "\n",
    "age=20\n",
    "if age>=18:\n",
    "    print(\"allowed to vote\")"
   ]
  },
  {
   "cell_type": "code",
   "execution_count": 2,
   "metadata": {},
   "outputs": [
    {
     "name": "stdout",
     "output_type": "stream",
     "text": [
      "not allowed to vote\n"
     ]
    }
   ],
   "source": [
    "## else statement\n",
    "age=17\n",
    "if age>=18:\n",
    "    print(\"allowed to vote\")\n",
    "else:\n",
    "    print(\"not allowed to vote\")"
   ]
  },
  {
   "cell_type": "code",
   "execution_count": 3,
   "metadata": {},
   "outputs": [
    {
     "name": "stdout",
     "output_type": "stream",
     "text": [
      "You are a teenager\n"
     ]
    }
   ],
   "source": [
    "## elif\n",
    "\n",
    "age=17\n",
    "\n",
    "if age<13:\n",
    "    print(\"You are a child\")\n",
    "elif age<18:\n",
    "    print(\"You are a teenager\")\n",
    "else:\n",
    "    print(\"You are an adult\")"
   ]
  },
  {
   "cell_type": "code",
   "execution_count": 5,
   "metadata": {},
   "outputs": [
    {
     "name": "stdout",
     "output_type": "stream",
     "text": [
      "Number is positive\n",
      "Number is even\n"
     ]
    }
   ],
   "source": [
    "## nested conditional statement\n",
    "\n",
    "num=int(input(\"Enter the number\"))\n",
    "\n",
    "if num>0:\n",
    "    print(\"Number is positive\")\n",
    "    if num%2==0:\n",
    "        print(\"Number is even\")\n",
    "    else:\n",
    "        print(\"Number is odd\")\n",
    "else:\n",
    "    print(\"Number is zero or negative\")"
   ]
  },
  {
   "cell_type": "code",
   "execution_count": 6,
   "metadata": {},
   "outputs": [
    {
     "name": "stdout",
     "output_type": "stream",
     "text": [
      "1999  not a leap year\n"
     ]
    }
   ],
   "source": [
    "## leap year\n",
    "\n",
    "year=int(input(\"Enter the number\"))\n",
    "\n",
    "if year%4==0:\n",
    "    if year%100==0:\n",
    "        if year%400==0:\n",
    "            print(year,\" is a leap year\")\n",
    "        else:\n",
    "            print(year,\" not a leap year\")\n",
    "    else:\n",
    "        print(year,\" is a leap year\")\n",
    "else:\n",
    "    print(year,\" not a leap year\")"
   ]
  },
  {
   "cell_type": "code",
   "execution_count": null,
   "metadata": {},
   "outputs": [],
   "source": []
  }
 ],
 "metadata": {
  "kernelspec": {
   "display_name": "Python 3",
   "language": "python",
   "name": "python3"
  },
  "language_info": {
   "codemirror_mode": {
    "name": "ipython",
    "version": 3
   },
   "file_extension": ".py",
   "mimetype": "text/x-python",
   "name": "python",
   "nbconvert_exporter": "python",
   "pygments_lexer": "ipython3",
   "version": "3.12.0"
  }
 },
 "nbformat": 4,
 "nbformat_minor": 2
}
